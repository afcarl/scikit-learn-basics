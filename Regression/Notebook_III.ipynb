{
 "cells": [
  {
   "cell_type": "markdown",
   "metadata": {},
   "source": [
    "# (II)\n",
    "\n",
    "#### Investigating the effect of data scaling (preprocessing.scale()) for the three classifiers we have seen before (naive Bayes, kNN, logistic regression) on the Wisconsin breast cancer data (load breast cancer).\n",
    "\n",
    "#### [DOC] Indicated any difference in the optimum parameters found by cross-validation and the evaluation results for scaled versus raw data.\n",
    "\n"
   ]
  },
  {
   "cell_type": "code",
   "execution_count": 3,
   "metadata": {
    "collapsed": false
   },
   "outputs": [],
   "source": [
    "%matplotlib inline\n",
    "\n",
    "import numpy as np\n",
    "from pprint import pprint\n",
    "import matplotlib.pyplot as plt\n",
    "from matplotlib.colors import ListedColormap\n",
    "\n",
    "from sklearn import neighbors, preprocessing\n",
    "from sklearn.preprocessing import PolynomialFeatures\n",
    "\n",
    "from sklearn.linear_model import LogisticRegression\n",
    "from sklearn.naive_bayes import GaussianNB\n",
    "from sklearn.dummy import DummyClassifier\n",
    "\n",
    "from sklearn.pipeline import Pipeline\n",
    "\n",
    "from sklearn.datasets import load_breast_cancer\n",
    "from sklearn.model_selection import train_test_split, StratifiedShuffleSplit\n",
    "from sklearn.model_selection import GridSearchCV\n",
    "\n",
    "from sklearn.metrics import classification_report, roc_curve, auc"
   ]
  },
  {
   "cell_type": "code",
   "execution_count": 4,
   "metadata": {
    "collapsed": true
   },
   "outputs": [],
   "source": [
    "# load data as inputs-outputs\n",
    "X, y = load_breast_cancer(return_X_y=True)"
   ]
  },
  {
   "cell_type": "code",
   "execution_count": 5,
   "metadata": {
    "collapsed": false,
    "scrolled": true
   },
   "outputs": [
    {
     "data": {
      "image/png": "[encoded data removed]",
      "text/plain": [
       "<matplotlib.figure.Figure at 0x7ff40f0c5f50>"
      ]
     },
     "metadata": {},
     "output_type": "display_data"
    }
   ],
   "source": [
    "# data are not normalized, so normalize, often better\n",
    "means = X.mean(axis=0)\n",
    "stds = X.std(axis=0)\n",
    "ts = list(range(0,len(means)))\n",
    "plt.errorbar(ts, means, stds/2, linestyle='None', marker='*')\n",
    "plt.title(\"mean values and standard deviation for wdbc data set\")\n",
    "plt.show()"
   ]
  },
  {
   "cell_type": "code",
   "execution_count": 6,
   "metadata": {
    "collapsed": true
   },
   "outputs": [],
   "source": [
    "# Split the raw data into train and test set\n",
    "Xraw_train, Xraw_test, yraw_train, yraw_test = train_test_split(X, y, test_size=0.20, random_state=42)"
   ]
  },
  {
   "cell_type": "code",
   "execution_count": 7,
   "metadata": {
    "collapsed": false
   },
   "outputs": [
    {
     "data": {
      "image/png": "[encoded data removed]",
      "text/plain": [
       "<matplotlib.figure.Figure at 0x7ff40cb23850>"
      ]
     },
     "metadata": {},
     "output_type": "display_data"
    }
   ],
   "source": [
    "# scaling the data\n",
    "X_scaled = preprocessing.scale(X)\n",
    "\n",
    "means = X_scaled.mean(axis=0)\n",
    "stds = X_scaled.std(axis=0)\n",
    "ts = list(range(0,len(means)))\n",
    "plt.errorbar(ts, means, stds/2, linestyle='None', marker='*')\n",
    "plt.title(\"mean values and standard deviation for scaled wdbc data set\")\n",
    "plt.show()\n"
   ]
  },
  {
   "cell_type": "code",
   "execution_count": 8,
   "metadata": {
    "collapsed": true
   },
   "outputs": [],
   "source": [
    "# Split the data into train and test set\n",
    "X_train, X_test, y_train, y_test = train_test_split(X_scaled, y, test_size=0.20, random_state=42)"
   ]
  },
  {
   "cell_type": "markdown",
   "metadata": {},
   "source": [
    "### Using the scaled data to see the optimum parameters as well as classification results (for kNN classifier)"
   ]
  },
  {
   "cell_type": "code",
   "execution_count": 9,
   "metadata": {
    "collapsed": false
   },
   "outputs": [
    {
     "name": "stdout",
     "output_type": "stream",
     "text": [
      "\n",
      " The best parameters are {'n_neighbors': 1, 'metric': 'euclidean', 'algorithm': 'brute'} with a score of 0.96\n",
      "\n",
      "\n"
     ]
    }
   ],
   "source": [
    "# first method: kNN classifier for the scaled data\n",
    "# optimize the metaparameter k by cross-validation\n",
    "\n",
    "params = {\"n_neighbors\": np.arange(1, 31, 2),\n",
    "    \"metric\": [\"euclidean\", \"cityblock\"],\n",
    "    \"algorithm\": [\"brute\"]}\n",
    "cv = StratifiedShuffleSplit(n_splits=3, test_size=0.2, random_state=42)\n",
    "grid = GridSearchCV(neighbors.KNeighborsClassifier(), param_grid=params, cv=cv, n_jobs=-1)\n",
    "grid.fit(X_train, y_train)\n",
    "best_param = grid.best_params_\n",
    "\n",
    "print(\"\\n The best parameters are %s with a score of %0.2f\" % (grid.best_params_, grid.best_score_))\n",
    "print \"\\n\""
   ]
  },
  {
   "cell_type": "code",
   "execution_count": 10,
   "metadata": {
    "collapsed": false
   },
   "outputs": [
    {
     "name": "stdout",
     "output_type": "stream",
     "text": [
      "knn: 1.00 training score, 0.94 test score\n",
      "\n",
      "\n"
     ]
    }
   ],
   "source": [
    "# For the scaled data\n",
    "# Now fit the model with optimum parameters for all training data, evaluate on the test set\n",
    "\n",
    "clf_knn = neighbors.KNeighborsClassifier(best_param['n_neighbors'],metric=best_param['metric'],algorithm=best_param['algorithm'])\n",
    "clf_knn.fit(X_train,y_train)\n",
    "eval_train = clf_knn.score(X_train,y_train)\n",
    "eval_test = clf_knn.score(X_test,y_test)\n",
    "print(\"knn: %0.2f training score, %0.2f test score\\n\" % (eval_train,eval_test))\n",
    "print(\"\")     "
   ]
  },
  {
   "cell_type": "markdown",
   "metadata": {},
   "source": [
    "### Using the raw (unscaled) data to see the optimum parameters as well as classification results (for kNN classifier)"
   ]
  },
  {
   "cell_type": "code",
   "execution_count": 11,
   "metadata": {
    "collapsed": false
   },
   "outputs": [
    {
     "name": "stdout",
     "output_type": "stream",
     "text": [
      "\n",
      " The best parameters are {'n_neighbors': 5, 'metric': 'cityblock', 'algorithm': 'brute'} with a score of 0.92\n",
      "\n",
      "\n"
     ]
    }
   ],
   "source": [
    "# first method: kNN classifier for the raw data\n",
    "# optimize the metaparameter k by cross-validation\n",
    "\n",
    "params = {\"n_neighbors\": np.arange(1, 31, 2),\n",
    "    \"metric\": [\"euclidean\", \"cityblock\"],\n",
    "    \"algorithm\": [\"brute\"]}\n",
    "cv = StratifiedShuffleSplit(n_splits=3, test_size=0.2, random_state=42)\n",
    "grid = GridSearchCV(neighbors.KNeighborsClassifier(), param_grid=params, cv=cv, n_jobs=-1)\n",
    "grid.fit(Xraw_train, yraw_train)\n",
    "best_param = grid.best_params_\n",
    "\n",
    "print(\"\\n The best parameters are %s with a score of %0.2f\" % (grid.best_params_, grid.best_score_))\n",
    "print \"\\n\""
   ]
  },
  {
   "cell_type": "code",
   "execution_count": 12,
   "metadata": {
    "collapsed": false
   },
   "outputs": [
    {
     "name": "stdout",
     "output_type": "stream",
     "text": [
      "knn: 0.95 training score, 0.95 test score\n",
      "\n",
      "\n"
     ]
    }
   ],
   "source": [
    "# For the raw data\n",
    "# Now fit the model with optimum parameters for all training data, evaluate on the test set\n",
    "\n",
    "clf_knn = neighbors.KNeighborsClassifier(best_param['n_neighbors'],metric=best_param['metric'],algorithm=best_param['algorithm'])\n",
    "clf_knn.fit(Xraw_train,yraw_train)\n",
    "eval_train = clf_knn.score(Xraw_train,yraw_train)\n",
    "eval_test = clf_knn.score(Xraw_test,yraw_test)\n",
    "print(\"knn: %0.2f training score, %0.2f test score\\n\" % (eval_train,eval_test))\n",
    "print(\"\")     "
   ]
  },
  {
   "cell_type": "markdown",
   "metadata": {},
   "source": [
    "### Using the scaled data to see the optimum parameters as well as classification results(for logistic regression with polynomial pre-processing)"
   ]
  },
  {
   "cell_type": "code",
   "execution_count": 13,
   "metadata": {
    "collapsed": false
   },
   "outputs": [
    {
     "name": "stdout",
     "output_type": "stream",
     "text": [
      "The best parameters are {'pre__degree': 3, 'regr__C': 1, 'regr__solver': 'lbfgs'} with a score of 0.97\n"
     ]
    }
   ],
   "source": [
    "# Logistic regression with polynomial preprocessing\n",
    "# optimize the metaparameter d = degree and C = smoothing by cross-validation\n",
    "\n",
    "params = {\"pre__degree\": [1,2,3],\n",
    "    \"regr__solver\": [\"lbfgs\"],\n",
    "    \"regr__C\": [0.1, 1, 2]}\n",
    "cv = StratifiedShuffleSplit(n_splits=3, test_size=0.2, random_state=42)\n",
    "clf_logreg = Pipeline([('pre',PolynomialFeatures()),('regr',LogisticRegression())])\n",
    "\n",
    "grid = GridSearchCV(clf_logreg, param_grid=params, cv=cv)\n",
    "grid.fit(X_train, y_train)\n",
    "best_param = grid.best_params_\n",
    "\n",
    "print(\"The best parameters are %s with a score of %0.2f\" % (grid.best_params_, grid.best_score_))\n"
   ]
  },
  {
   "cell_type": "code",
   "execution_count": 14,
   "metadata": {
    "collapsed": false
   },
   "outputs": [
    {
     "name": "stdout",
     "output_type": "stream",
     "text": [
      "logistic regression: 1.00 training score and 0.96 test score\n",
      "\n"
     ]
    }
   ],
   "source": [
    "# Now,fit the model with optimum parameters for all training data, evaluate on the test set\n",
    "\n",
    "clf_logreg.set_params(pre__degree = best_param['pre__degree'],regr__solver=best_param['regr__solver'],regr__C=best_param['regr__C'])\n",
    "clf_logreg.fit(X_train,y_train)\n",
    "eval_train = clf_logreg.score(X_train,y_train)\n",
    "eval_test = clf_logreg.score(X_test,y_test)\n",
    "print(\"logistic regression: %0.2f training score and %0.2f test score\" % (eval_train,eval_test))\n",
    "print(\"\") "
   ]
  },
  {
   "cell_type": "markdown",
   "metadata": {},
   "source": [
    "### Using the raw (unscaled) data to see the optimum parameters as well as classification results(for logistic regression with polynomial pre-processing)"
   ]
  },
  {
   "cell_type": "code",
   "execution_count": 15,
   "metadata": {
    "collapsed": false
   },
   "outputs": [
    {
     "name": "stdout",
     "output_type": "stream",
     "text": [
      "The best parameters are {'pre__degree': 2, 'regr__C': 2, 'regr__solver': 'lbfgs'} with a score of 0.97\n"
     ]
    }
   ],
   "source": [
    "# Logistic regression with polynomial preprocessing\n",
    "# optimize the metaparameter d = degree and C = smoothing by cross-validation\n",
    "\n",
    "params = {\"pre__degree\": [1,2,3],\n",
    "    \"regr__solver\": [\"lbfgs\"],\n",
    "    \"regr__C\": [0.1, 1, 2]}\n",
    "cv = StratifiedShuffleSplit(n_splits=3, test_size=0.2, random_state=42)\n",
    "clf_logreg = Pipeline([('pre',PolynomialFeatures()),('regr',LogisticRegression())])\n",
    "\n",
    "grid = GridSearchCV(clf_logreg, param_grid=params, cv=cv)\n",
    "grid.fit(Xraw_train, yraw_train)\n",
    "best_param = grid.best_params_\n",
    "\n",
    "print(\"The best parameters are %s with a score of %0.2f\" % (grid.best_params_, grid.best_score_))\n"
   ]
  },
  {
   "cell_type": "code",
   "execution_count": 16,
   "metadata": {
    "collapsed": false
   },
   "outputs": [
    {
     "name": "stdout",
     "output_type": "stream",
     "text": [
      "logistic regression: 0.97 training score and 0.96 test score\n",
      "\n"
     ]
    }
   ],
   "source": [
    "# and fit the model with optimum parameters for all training data, evaluate on the test set\n",
    "\n",
    "clf_logreg.set_params(pre__degree = best_param['pre__degree'],regr__solver=best_param['regr__solver'],regr__C=best_param['regr__C'])\n",
    "clf_logreg.fit(Xraw_train,yraw_train)\n",
    "eval_train = clf_logreg.score(Xraw_train,yraw_train)\n",
    "eval_test = clf_logreg.score(Xraw_test,yraw_test)\n",
    "print(\"logistic regression: %0.2f training score and %0.2f test score\" % (eval_train,eval_test))\n",
    "print(\"\") "
   ]
  },
  {
   "cell_type": "markdown",
   "metadata": {},
   "source": [
    "### Using the scaled data to see the optimum parameters as well as classification results (for GaussianNB)"
   ]
  },
  {
   "cell_type": "code",
   "execution_count": 17,
   "metadata": {
    "collapsed": false
   },
   "outputs": [
    {
     "name": "stdout",
     "output_type": "stream",
     "text": [
      "Gaussian naive Bayes: 0.94 training score and 0.96 test score\n",
      "\n"
     ]
    }
   ],
   "source": [
    "# final method: Gaussian naive Bayes\n",
    "# no metaparameters to optimize\n",
    "\n",
    "clf_gnb = GaussianNB()\n",
    "clf_gnb.fit(X_train, y_train)\n",
    "eval_train = clf_gnb.score(X_train,y_train)\n",
    "eval_test = clf_gnb.score(X_test,y_test)\n",
    "print(\"Gaussian naive Bayes: %0.2f training score and %0.2f test score\" % (eval_train,eval_test))\n",
    "print(\"\") \n"
   ]
  },
  {
   "cell_type": "markdown",
   "metadata": {},
   "source": [
    "### Using the raw (unscaled) data to see the optimum parameters as well as classification results (for GaussianNB)"
   ]
  },
  {
   "cell_type": "code",
   "execution_count": 18,
   "metadata": {
    "collapsed": false
   },
   "outputs": [
    {
     "name": "stdout",
     "output_type": "stream",
     "text": [
      "Gaussian naive Bayes: 0.94 training score and 0.97 test score\n",
      "\n"
     ]
    }
   ],
   "source": [
    "# final method: Gaussian naive Bayes\n",
    "# no metaparameters to optimize\n",
    "\n",
    "clf_gnb = GaussianNB()\n",
    "clf_gnb.fit(Xraw_train, yraw_train)\n",
    "eval_train = clf_gnb.score(Xraw_train,yraw_train)\n",
    "eval_test = clf_gnb.score(Xraw_test,yraw_test)\n",
    "print(\"Gaussian naive Bayes: %0.2f training score and %0.2f test score\" % (eval_train,eval_test))\n",
    "print(\"\") "
   ]
  },
  {
   "cell_type": "markdown",
   "metadata": {},
   "source": [
    "### Evaluating other performance metrics for the above three classifiers (scaled data)"
   ]
  },
  {
   "cell_type": "code",
   "execution_count": 19,
   "metadata": {
    "collapsed": false
   },
   "outputs": [
    {
     "name": "stdout",
     "output_type": "stream",
     "text": [
      "knn\n",
      "             precision    recall  f1-score   support\n",
      "\n",
      "          0       0.00      0.00      0.00        43\n",
      "          1       0.62      1.00      0.77        71\n",
      "\n",
      "avg / total       0.39      0.62      0.48       114\n",
      "\n",
      "\n",
      "logreg\n",
      "             precision    recall  f1-score   support\n",
      "\n",
      "          0       0.27      0.14      0.18        43\n",
      "          1       0.60      0.77      0.67        71\n",
      "\n",
      "avg / total       0.48      0.54      0.49       114\n",
      "\n",
      "\n",
      "gnb\n",
      "             precision    recall  f1-score   support\n",
      "\n",
      "          0       0.38      1.00      0.55        43\n",
      "          1       0.00      0.00      0.00        71\n",
      "\n",
      "avg / total       0.14      0.38      0.21       114\n",
      "\n",
      "\n"
     ]
    },
    {
     "name": "stderr",
     "output_type": "stream",
     "text": [
      "/home/susupta/anaconda2/lib/python2.7/site-packages/sklearn/metrics/classification.py:1113: UndefinedMetricWarning: Precision and F-score are ill-defined and being set to 0.0 in labels with no predicted samples.\n",
      "  'precision', 'predicted', average, warn_for)\n"
     ]
    }
   ],
   "source": [
    "# evaluations beyond the mere accuracy for scaled data\n",
    "# note that different evaluation measures are\n",
    "# suited for different settings (2 vs more classes, multilabel, ...)\n",
    "\n",
    "print(\"knn\")\n",
    "y_knn = clf_knn.predict(X_test)\n",
    "y_knn_score = clf_knn.predict_proba(X_test)[:,1]\n",
    "print(classification_report(y_test,y_knn))\n",
    "print(\"\")\n",
    "print(\"logreg\")\n",
    "y_logreg = clf_logreg.predict(X_test)\n",
    "y_logreg_score = clf_logreg.predict_proba(X_test)[:,1]\n",
    "print(classification_report(y_test,y_logreg))\n",
    "print(\"\")\n",
    "print(\"gnb\")\n",
    "y_gnb= clf_gnb.predict(X_test)\n",
    "y_gnb_score= clf_gnb.predict_proba(X_test)[:,1]\n",
    "print(classification_report(y_test,y_gnb))\n",
    "print(\"\")\n"
   ]
  },
  {
   "cell_type": "markdown",
   "metadata": {},
   "source": [
    "### Evaluating other performance metrics for the above three classifiers (raw (unscaled) data)"
   ]
  },
  {
   "cell_type": "code",
   "execution_count": 20,
   "metadata": {
    "collapsed": false
   },
   "outputs": [
    {
     "name": "stdout",
     "output_type": "stream",
     "text": [
      "knn\n",
      "             precision    recall  f1-score   support\n",
      "\n",
      "          0       0.97      0.88      0.93        43\n",
      "          1       0.93      0.99      0.96        71\n",
      "\n",
      "avg / total       0.95      0.95      0.95       114\n",
      "\n",
      "\n",
      "logreg\n",
      "             precision    recall  f1-score   support\n",
      "\n",
      "          0       0.97      0.91      0.94        43\n",
      "          1       0.95      0.99      0.97        71\n",
      "\n",
      "avg / total       0.96      0.96      0.96       114\n",
      "\n",
      "\n",
      "gnb\n",
      "             precision    recall  f1-score   support\n",
      "\n",
      "          0       1.00      0.93      0.96        43\n",
      "          1       0.96      1.00      0.98        71\n",
      "\n",
      "avg / total       0.97      0.97      0.97       114\n",
      "\n",
      "\n"
     ]
    },
    {
     "name": "stderr",
     "output_type": "stream",
     "text": [
      "/home/susupta/anaconda2/lib/python2.7/site-packages/sklearn/linear_model/base.py:352: RuntimeWarning: overflow encountered in exp\n",
      "  np.exp(prob, prob)\n"
     ]
    }
   ],
   "source": [
    "# For raw data # Runtime error: overflow encountered\n",
    "\n",
    "print(\"knn\")\n",
    "yraw_knn = clf_knn.predict(Xraw_test)\n",
    "yraw_knn_score = clf_knn.predict_proba(Xraw_test)[:,1]\n",
    "print(classification_report(yraw_test,yraw_knn))\n",
    "print(\"\")\n",
    "print(\"logreg\")\n",
    "yraw_logreg = clf_logreg.predict(Xraw_test)\n",
    "yraw_logreg_score = clf_logreg.predict_proba(Xraw_test)[:,1]\n",
    "print(classification_report(yraw_test,yraw_logreg))\n",
    "print(\"\")\n",
    "print(\"gnb\")\n",
    "yraw_gnb= clf_gnb.predict(Xraw_test)\n",
    "yraw_gnb_score= clf_gnb.predict_proba(Xraw_test)[:,1]\n",
    "print(classification_report(yraw_test,yraw_gnb))\n",
    "print(\"\")"
   ]
  },
  {
   "cell_type": "markdown",
   "metadata": {},
   "source": [
    "# (III)\n",
    "\n",
    "### Extending the text classification example for the 20 newsgroups data set such that\n",
    "#### • the parameter alpha is optimized by cross-validation\n",
    "#### • the evaluation also displays other measures than the mere classification accuracy\n",
    "#### • the result is compared to a default classifier\n"
   ]
  },
  {
   "cell_type": "code",
   "execution_count": 21,
   "metadata": {
    "collapsed": true
   },
   "outputs": [],
   "source": [
    "import numpy as np\n",
    "from sklearn.naive_bayes import MultinomialNB, BernoulliNB\n",
    "from sklearn.pipeline import Pipeline\n",
    "from sklearn.feature_extraction.text import CountVectorizer\n",
    "from sklearn.feature_extraction.text import TfidfTransformer"
   ]
  },
  {
   "cell_type": "markdown",
   "metadata": {},
   "source": [
    " ### For the categories (’rec.autos’, ’rec.motorcycles’) "
   ]
  },
  {
   "cell_type": "code",
   "execution_count": 22,
   "metadata": {
    "collapsed": false
   },
   "outputs": [
    {
     "name": "stdout",
     "output_type": "stream",
     "text": [
      "training score 0.97\n",
      "test score 0.83\n"
     ]
    }
   ],
   "source": [
    "# load data, subset of 20 newsgroup data set\n",
    "\n",
    "from sklearn.datasets import fetch_20newsgroups\n",
    "categories = ['rec.autos','rec.motorcycles']\n",
    "twenty_train = fetch_20newsgroups(subset='train', categories=categories, shuffle=True, random_state=42, remove=('headers', 'footers', 'quotes'))\n",
    "\n",
    "# data are not vectorial yet, define pipeline to \n",
    "# compute tf idf and subsequent multinomial naive Bayes \n",
    "\n",
    "#alpha = 0 does not work, you can give it a try!\n",
    "alpha = 1e-2\n",
    "text_clf = Pipeline([('vect', CountVectorizer()),('tfidf', TfidfTransformer()),('clf', MultinomialNB()),])\n",
    "text_clf.set_params(clf__alpha = alpha)\n",
    "\n",
    "\n",
    "# train on training data, predict test set\n",
    "text_clf = text_clf.fit(twenty_train.data, twenty_train.target)\n",
    "\n",
    "print(\"training score %0.2f\" % text_clf.score(twenty_train.data, twenty_train.target))\n",
    "twenty_test = fetch_20newsgroups(subset='test', categories=categories, shuffle=True, random_state=42, remove=('headers', 'footers', 'quotes'))\n",
    "print(\"test score %0.2f\" % text_clf.score(twenty_test.data, twenty_test.target))"
   ]
  },
  {
   "cell_type": "code",
   "execution_count": 23,
   "metadata": {
    "collapsed": false
   },
   "outputs": [
    {
     "name": "stdout",
     "output_type": "stream",
     "text": [
      "The best parameters are {'clf__alpha': 0.001} with a score of 0.86\n"
     ]
    }
   ],
   "source": [
    "params = {\"clf__alpha\": np.arange(1e-3, 1e+0, 1)} # varying alpha from 0.001 to 0.10\n",
    "\n",
    "cv = StratifiedShuffleSplit(n_splits=3, test_size=0.2, random_state=42)\n",
    "grid = GridSearchCV(text_clf, param_grid=params, cv=cv)\n",
    "#grid.fit(X_train, y_train)\n",
    "grid.fit(twenty_train.data,twenty_train.target)\n",
    "best_param = grid.best_params_\n",
    "\n",
    "print(\"The best parameters are %s with a score of %0.2f\" % (grid.best_params_, grid.best_score_))\n"
   ]
  },
  {
   "cell_type": "code",
   "execution_count": 24,
   "metadata": {
    "collapsed": false
   },
   "outputs": [
    {
     "name": "stdout",
     "output_type": "stream",
     "text": [
      " The test score for optimized alpha is:  0.824937027708\n"
     ]
    }
   ],
   "source": [
    "from sklearn import metrics\n",
    "\n",
    "# setting the best alpha\n",
    "text_clf.set_params(clf__alpha = 0.001)\n",
    "text_clf = text_clf.fit(twenty_train.data, twenty_train.target)\n",
    "# Get the test score\n",
    "print \" The test score for optimized alpha is: \",text_clf.score(twenty_test.data, twenty_test.target)\n"
   ]
  },
  {
   "cell_type": "code",
   "execution_count": 25,
   "metadata": {
    "collapsed": false
   },
   "outputs": [
    {
     "data": {
      "text/plain": [
       "array([[316,  80],\n",
       "       [ 59, 339]])"
      ]
     },
     "execution_count": 25,
     "metadata": {},
     "output_type": "execute_result"
    }
   ],
   "source": [
    "predicted = text_clf.predict(twenty_test.data)\n",
    "metrics.accuracy_score(twenty_test.target,predicted)\n",
    "metrics.confusion_matrix(twenty_test.target,predicted) # Getting the confusion matrix"
   ]
  },
  {
   "cell_type": "code",
   "execution_count": 66,
   "metadata": {
    "collapsed": false
   },
   "outputs": [
    {
     "data": {
      "text/plain": [
       "0.89468198526486631"
      ]
     },
     "execution_count": 66,
     "metadata": {},
     "output_type": "execute_result"
    }
   ],
   "source": [
    "metrics.roc_auc_score(twenty_test.target,predicted) # Area under curve score\n",
    "\n",
    "#print(\"\")"
   ]
  },
  {
   "cell_type": "markdown",
   "metadata": {
    "collapsed": true
   },
   "source": [
    "### For categories 'alt.atheism','sci.space'"
   ]
  },
  {
   "cell_type": "code",
   "execution_count": 28,
   "metadata": {
    "collapsed": false
   },
   "outputs": [
    {
     "name": "stdout",
     "output_type": "stream",
     "text": [
      "training score 0.99\n",
      "test score 0.91\n"
     ]
    }
   ],
   "source": [
    "# load data, subset of 20 newsgroup data set\n",
    "\n",
    "from sklearn.datasets import fetch_20newsgroups\n",
    "categories = ['alt.atheism','sci.space']\n",
    "twenty_train = fetch_20newsgroups(subset='train', categories=categories, shuffle=True, random_state=42, remove=('headers', 'footers', 'quotes'))\n",
    "\n",
    "# data are not vectorial yet, define pipeline to \n",
    "# compute tf idf and subsequent multinomial naive Bayes \n",
    "\n",
    "#alpha = 0 does not work, you can give it a try!\n",
    "alpha = 1e-2\n",
    "text_clf = Pipeline([('vect', CountVectorizer()),('tfidf', TfidfTransformer()),('clf', MultinomialNB()),])\n",
    "text_clf.set_params(clf__alpha = alpha)\n",
    "\n",
    "\n",
    "# train on training data, predict test set\n",
    "text_clf = text_clf.fit(twenty_train.data, twenty_train.target)\n",
    "\n",
    "print(\"training score %0.2f\" % text_clf.score(twenty_train.data, twenty_train.target))\n",
    "twenty_test = fetch_20newsgroups(subset='test', categories=categories, shuffle=True, random_state=42, remove=('headers', 'footers', 'quotes'))\n",
    "print(\"test score %0.2f\" % text_clf.score(twenty_test.data, twenty_test.target))"
   ]
  },
  {
   "cell_type": "code",
   "execution_count": 29,
   "metadata": {
    "collapsed": false
   },
   "outputs": [
    {
     "name": "stdout",
     "output_type": "stream",
     "text": [
      "The best parameters are {'clf__alpha': 0.001} with a score of 0.94\n"
     ]
    }
   ],
   "source": [
    "params = {\"clf__alpha\": np.arange(1e-3, 1e+0, 1)} # varying alpha from 0.001 to 0.10\n",
    "\n",
    "cv = StratifiedShuffleSplit(n_splits=3, test_size=0.2, random_state=42)\n",
    "grid = GridSearchCV(text_clf, param_grid=params, cv=cv)\n",
    "#grid.fit(X_train, y_train)\n",
    "grid.fit(twenty_train.data,twenty_train.target)\n",
    "best_param = grid.best_params_\n",
    "\n",
    "print(\"The best parameters are %s with a score of %0.2f\" % (grid.best_params_, grid.best_score_))"
   ]
  },
  {
   "cell_type": "code",
   "execution_count": 30,
   "metadata": {
    "collapsed": false
   },
   "outputs": [
    {
     "name": "stdout",
     "output_type": "stream",
     "text": [
      " The test score for optimized alpha is:  0.900420757363\n"
     ]
    }
   ],
   "source": [
    "from sklearn import metrics\n",
    "\n",
    "# setting the best alpha\n",
    "text_clf.set_params(clf__alpha = 0.001)\n",
    "text_clf = text_clf.fit(twenty_train.data, twenty_train.target)\n",
    "# Get the test score\n",
    "print \" The test score for optimized alpha is: \",text_clf.score(twenty_test.data, twenty_test.target)\n"
   ]
  },
  {
   "cell_type": "code",
   "execution_count": 31,
   "metadata": {
    "collapsed": false
   },
   "outputs": [
    {
     "data": {
      "text/plain": [
       "array([[268,  51],\n",
       "       [ 20, 374]])"
      ]
     },
     "execution_count": 31,
     "metadata": {},
     "output_type": "execute_result"
    }
   ],
   "source": [
    "predicted = text_clf.predict(twenty_test.data)\n",
    "metrics.accuracy_score(twenty_test.target,predicted)\n",
    "metrics.confusion_matrix(twenty_test.target,predicted) # Getting the confusion matrix"
   ]
  },
  {
   "cell_type": "code",
   "execution_count": 32,
   "metadata": {
    "collapsed": false
   },
   "outputs": [
    {
     "data": {
      "text/plain": [
       "0.89468198526486631"
      ]
     },
     "execution_count": 32,
     "metadata": {},
     "output_type": "execute_result"
    }
   ],
   "source": [
    "metrics.roc_auc_score(twenty_test.target,predicted)\n",
    "\n",
    "#metrics.f1_score(twenty_test.target,predicted)\n",
    "#print(classification_report(twenty_test,predicted))\n",
    "#print(\"\")\n"
   ]
  },
  {
   "cell_type": "markdown",
   "metadata": {},
   "source": [
    "### Comparing with default classifier (dummy classifier)"
   ]
  },
  {
   "cell_type": "code",
   "execution_count": 82,
   "metadata": {
    "collapsed": false
   },
   "outputs": [
    {
     "name": "stdout",
     "output_type": "stream",
     "text": [
      "\n"
     ]
    }
   ],
   "source": [
    "# dummy classifier\n",
    "from sklearn.dummy import DummyClassifier\n",
    "text_clf = Pipeline([('vect', CountVectorizer()),('tfidf', TfidfTransformer()),('clf', DummyClassifier()),])\n"
   ]
  },
  {
   "cell_type": "code",
   "execution_count": 83,
   "metadata": {
    "collapsed": false
   },
   "outputs": [
    {
     "name": "stdout",
     "output_type": "stream",
     "text": [
      " The test score for optimized alpha is:  0.510518934081\n"
     ]
    }
   ],
   "source": [
    "text_clf = text_clf.fit(twenty_train.data, twenty_train.target)\n",
    "# Get the test score\n",
    "print \" The test score for optimized alpha is: \",text_clf.score(twenty_test.data, twenty_test.target)\n"
   ]
  },
  {
   "cell_type": "code",
   "execution_count": 84,
   "metadata": {
    "collapsed": false
   },
   "outputs": [
    {
     "data": {
      "text/plain": [
       "array([[152, 167],\n",
       "       [169, 225]])"
      ]
     },
     "execution_count": 84,
     "metadata": {},
     "output_type": "execute_result"
    }
   ],
   "source": [
    "predicted = text_clf.predict(twenty_test.data)\n",
    "metrics.accuracy_score(twenty_test.target,predicted)\n",
    "metrics.confusion_matrix(twenty_test.target,predicted) # Getting the confusion matrix"
   ]
  },
  {
   "cell_type": "code",
   "execution_count": 85,
   "metadata": {
    "collapsed": false
   },
   "outputs": [
    {
     "data": {
      "text/plain": [
       "0.52377750903044096"
      ]
     },
     "execution_count": 85,
     "metadata": {},
     "output_type": "execute_result"
    }
   ],
   "source": [
    "metrics.roc_auc_score(twenty_test.target,predicted)\n"
   ]
  },
  {
   "cell_type": "markdown",
   "metadata": {},
   "source": [
    "# (IV)\n",
    "    \n",
    "Scikit-learn comes with a benchmark for handwritten digit recognition\n",
    "(load digits). Here we try to devise a good classifier for this data set, thereby realising the full\n",
    "training pipeline.\n"
   ]
  },
  {
   "cell_type": "code",
   "execution_count": 33,
   "metadata": {
    "collapsed": false
   },
   "outputs": [
    {
     "data": {
      "text/plain": [
       "(1797, 8, 8)"
      ]
     },
     "execution_count": 33,
     "metadata": {},
     "output_type": "execute_result"
    }
   ],
   "source": [
    "from sklearn import datasets\n",
    "digits = datasets.load_digits()\n",
    "digits.images.shape\n"
   ]
  },
  {
   "cell_type": "code",
   "execution_count": 34,
   "metadata": {
    "collapsed": false
   },
   "outputs": [
    {
     "data": {
      "image/png": "[encoded data removed]",
      "text/plain": [
       "<matplotlib.figure.Figure at 0x7ff40a2f73d0>"
      ]
     },
     "metadata": {},
     "output_type": "display_data"
    }
   ],
   "source": [
    " # set up the figure\n",
    "fig = plt.figure(figsize=(6, 6))  # figure size in inches\n",
    "fig.subplots_adjust(left=0, right=1, bottom=0, top=1, hspace=0.05, wspace=0.05)\n",
    "\n",
    "# plot the digits: each image is 8x8 pixels\n",
    "for i in range(64):\n",
    "    ax = fig.add_subplot(8, 8, i + 1, xticks=[], yticks=[])\n",
    "    ax.imshow(digits.images[i], cmap=plt.cm.binary)\n",
    "    \n",
    "    # label the image with the target value\n",
    "    ax.text(0, 7, str(digits.target[i]))"
   ]
  },
  {
   "cell_type": "code",
   "execution_count": 87,
   "metadata": {
    "collapsed": false
   },
   "outputs": [
    {
     "name": "stdout",
     "output_type": "stream",
     "text": [
      "(1797, 8, 8)\n",
      "(1797, 64)\n",
      "(1797,)\n",
      "number of datapoints:  1797\n",
      "number of classes: 10\n"
     ]
    }
   ],
   "source": [
    "print digits.images.shape\n",
    "X = digits.data\n",
    "y = digits.target\n",
    "print(X.shape)\n",
    "print(y.shape)\n",
    "print \"number of datapoints: \", len(y)\n",
    "print \"number of classes: 10\""
   ]
  },
  {
   "cell_type": "code",
   "execution_count": 90,
   "metadata": {
    "collapsed": false
   },
   "outputs": [
    {
     "name": "stdout",
     "output_type": "stream",
     "text": [
      "[  0.   0.   5.  13.   9.   1.   0.   0.   0.   0.  13.  15.  10.  15.   5.\n",
      "   0.   0.   3.  15.   2.   0.  11.   8.   0.   0.   4.  12.   0.   0.   8.\n",
      "   8.   0.   0.   5.   8.   0.   0.   9.   8.   0.   0.   4.  11.   0.   1.\n",
      "  12.   7.   0.   0.   2.  14.   5.  10.  12.   0.   0.   0.   0.   6.  13.\n",
      "  10.   0.   0.   0.]\n",
      "\n",
      "\n",
      "Number of pixels in one datapoint:  64\n"
     ]
    }
   ],
   "source": [
    "# pixel data of one of the images\n",
    "print digits.data[0]\n",
    "print\"\\n\"\n",
    "print \"Number of pixels in one datapoint: \",len(digits.data[0])"
   ]
  },
  {
   "cell_type": "code",
   "execution_count": 39,
   "metadata": {
    "collapsed": false
   },
   "outputs": [
    {
     "name": "stdout",
     "output_type": "stream",
     "text": [
      "[0 1 2 ..., 8 9 8]\n"
     ]
    }
   ],
   "source": [
    "# the labels of the target (classes)\n",
    "print(digits.target)"
   ]
  },
  {
   "cell_type": "code",
   "execution_count": 91,
   "metadata": {
    "collapsed": false
   },
   "outputs": [
    {
     "data": {
      "text/plain": [
       "(1797, 2)"
      ]
     },
     "execution_count": 91,
     "metadata": {},
     "output_type": "execute_result"
    }
   ],
   "source": [
    "# Projecting the data into 2D for visualisation\n",
    "from sklearn.manifold import Isomap #optional\n",
    "iso = Isomap(n_components = 2)\n",
    "data_projected = iso.fit_transform(digits.data)\n",
    "data_projected.shape"
   ]
  },
  {
   "cell_type": "code",
   "execution_count": 42,
   "metadata": {
    "collapsed": false
   },
   "outputs": [
    {
     "data": {
      "image/png": "[encoded data removed]",
      "text/plain": [
       "<matplotlib.figure.Figure at 0x7ff4081e3750>"
      ]
     },
     "metadata": {},
     "output_type": "display_data"
    }
   ],
   "source": [
    "plt.scatter(data_projected[:,0],data_projected[:,1], c= digits.target,edgecolor='none', alpha=0.5,\n",
    "            cmap=plt.cm.get_cmap('nipy_spectral', 10))\n",
    "plt.colorbar();"
   ]
  },
  {
   "cell_type": "markdown",
   "metadata": {},
   "source": [
    "### As we can see the points are fairly well separated, so a unsupervised classification model should do the job pretty well."
   ]
  },
  {
   "cell_type": "code",
   "execution_count": 43,
   "metadata": {
    "collapsed": false
   },
   "outputs": [
    {
     "name": "stdout",
     "output_type": "stream",
     "text": [
      "((1347, 64), (450, 64))\n"
     ]
    }
   ],
   "source": [
    "from sklearn.model_selection import train_test_split\n",
    "from sklearn.metrics import accuracy_score\n",
    "\n",
    "\n",
    "Xtrain, Xtest, ytrain, ytest = train_test_split(X, y, random_state=42)\n",
    "print(Xtrain.shape, Xtest.shape)"
   ]
  },
  {
   "cell_type": "markdown",
   "metadata": {},
   "source": [
    "### Starting with LogisticRegression"
   ]
  },
  {
   "cell_type": "code",
   "execution_count": 70,
   "metadata": {
    "collapsed": false
   },
   "outputs": [
    {
     "name": "stdout",
     "output_type": "stream",
     "text": [
      "CPU times: user 244 ms, sys: 0 ns, total: 244 ms\n",
      "Wall time: 247 ms\n"
     ]
    }
   ],
   "source": [
    "from sklearn.linear_model import LogisticRegression\n",
    "clf = LogisticRegression()\n",
    "% time clf.fit(Xtrain,ytrain)\n",
    "ypred = clf.predict(Xtest)"
   ]
  },
  {
   "cell_type": "code",
   "execution_count": 45,
   "metadata": {
    "collapsed": false
   },
   "outputs": [
    {
     "data": {
      "text/plain": [
       "0.96666666666666667"
      ]
     },
     "execution_count": 45,
     "metadata": {},
     "output_type": "execute_result"
    }
   ],
   "source": [
    "accuracy_score(ytest,ypred)"
   ]
  },
  {
   "cell_type": "code",
   "execution_count": 46,
   "metadata": {
    "collapsed": false
   },
   "outputs": [
    {
     "name": "stdout",
     "output_type": "stream",
     "text": [
      "[[42  0  0  0  1  0  0  0  0  0]\n",
      " [ 0 36  0  0  0  0  0  0  1  0]\n",
      " [ 0  0 38  0  0  0  0  0  0  0]\n",
      " [ 0  0  0 44  0  1  0  0  1  0]\n",
      " [ 0  1  0  0 54  0  0  0  0  0]\n",
      " [ 0  0  1  0  0 56  0  0  1  1]\n",
      " [ 0  0  0  0  0  1 44  0  0  0]\n",
      " [ 0  0  0  0  0  0  0 40  0  1]\n",
      " [ 0  1  0  0  0  1  0  0 36  0]\n",
      " [ 0  0  0  0  0  0  0  0  3 45]]\n"
     ]
    }
   ],
   "source": [
    "print(metrics.confusion_matrix(ytest,ypred))"
   ]
  },
  {
   "cell_type": "code",
   "execution_count": 47,
   "metadata": {
    "collapsed": false
   },
   "outputs": [
    {
     "name": "stderr",
     "output_type": "stream",
     "text": [
      "/home/susupta/anaconda2/lib/python2.7/site-packages/ipykernel/__main__.py:1: RuntimeWarning: divide by zero encountered in log\n",
      "  if __name__ == '__main__':\n"
     ]
    },
    {
     "data": {
      "image/png": "[encoded data removed]",
      "text/plain": [
       "<matplotlib.figure.Figure at 0x7ff40808bed0>"
      ]
     },
     "metadata": {},
     "output_type": "display_data"
    }
   ],
   "source": [
    "plt.imshow(np.log(metrics.confusion_matrix(ytest,ypred)), \n",
    "           cmap = 'Reds',\n",
    "           interpolation='nearest')\n",
    "plt.grid(False)\n",
    "plt.ylabel('true')\n",
    "plt.xlabel('predicted');"
   ]
  },
  {
   "cell_type": "markdown",
   "metadata": {},
   "source": [
    "### Moving on to GaussianNB"
   ]
  },
  {
   "cell_type": "code",
   "execution_count": 97,
   "metadata": {
    "collapsed": false
   },
   "outputs": [
    {
     "name": "stdout",
     "output_type": "stream",
     "text": [
      "CPU times: user 4 ms, sys: 0 ns, total: 4 ms\n",
      "Wall time: 3.57 ms\n",
      "\n",
      "\n",
      "training score : 0.857 \n"
     ]
    }
   ],
   "source": [
    "from sklearn.naive_bayes import GaussianNB\n",
    "clf = GaussianNB()\n",
    "%time clf.fit(Xtrain, ytrain)\n",
    "GaussianNB(priors = None) # class priors are adapted from the data\n",
    "print \"\\n\"\n",
    "# print the training scores\n",
    "print(\"training score : %.3f \" % clf.score(Xtrain, ytrain))\n"
   ]
  },
  {
   "cell_type": "code",
   "execution_count": 98,
   "metadata": {
    "collapsed": false
   },
   "outputs": [
    {
     "name": "stdout",
     "output_type": "stream",
     "text": [
      "Test score:  0.855555555556\n"
     ]
    }
   ],
   "source": [
    "# Accuracy and test score\n",
    "ypred = clf.predict(Xtest)\n",
    "print \"Test score: \",accuracy_score(ytest,ypred)\n"
   ]
  },
  {
   "cell_type": "code",
   "execution_count": 50,
   "metadata": {
    "collapsed": false
   },
   "outputs": [
    {
     "name": "stderr",
     "output_type": "stream",
     "text": [
      "/home/susupta/anaconda2/lib/python2.7/site-packages/ipykernel/__main__.py:1: RuntimeWarning: divide by zero encountered in log\n",
      "  if __name__ == '__main__':\n"
     ]
    },
    {
     "data": {
      "image/png": "[encoded data removed]",
      "text/plain": [
       "<matplotlib.figure.Figure at 0x7ff3f2ed91d0>"
      ]
     },
     "metadata": {},
     "output_type": "display_data"
    }
   ],
   "source": [
    "plt.imshow(np.log(metrics.confusion_matrix(ytest,ypred)), \n",
    "           cmap = 'Reds',\n",
    "           interpolation='nearest')\n",
    "plt.grid(False)\n",
    "plt.ylabel('true')\n",
    "plt.xlabel('predicted');"
   ]
  },
  {
   "cell_type": "markdown",
   "metadata": {},
   "source": [
    "### Seeing with Multinomial Naive Bayes"
   ]
  },
  {
   "cell_type": "code",
   "execution_count": 95,
   "metadata": {
    "collapsed": false
   },
   "outputs": [
    {
     "name": "stdout",
     "output_type": "stream",
     "text": [
      "CPU times: user 4 ms, sys: 0 ns, total: 4 ms\n",
      "Wall time: 2.94 ms\n",
      "\n",
      "\n",
      "training score : 0.905 \n"
     ]
    }
   ],
   "source": [
    "from sklearn.naive_bayes import MultinomialNB\n",
    "clf = MultinomialNB()\n",
    "%time clf.fit(Xtrain, ytrain)\n",
    "MultinomialNB(alpha=1e-2, class_prior=None, fit_prior=True)\n",
    "print \"\\n\"\n",
    "# print the training scores\n",
    "print(\"training score : %.3f \" % clf.score(Xtrain, ytrain))\n"
   ]
  },
  {
   "cell_type": "code",
   "execution_count": 96,
   "metadata": {
    "collapsed": false
   },
   "outputs": [
    {
     "name": "stdout",
     "output_type": "stream",
     "text": [
      "Test score:  0.915555555556\n"
     ]
    }
   ],
   "source": [
    "# Accuracy and test score\n",
    "ypred = clf.predict(Xtest)\n",
    "print \"Test score: \", accuracy_score(ytest,ypred)"
   ]
  },
  {
   "cell_type": "code",
   "execution_count": 53,
   "metadata": {
    "collapsed": false
   },
   "outputs": [
    {
     "name": "stderr",
     "output_type": "stream",
     "text": [
      "/home/susupta/anaconda2/lib/python2.7/site-packages/ipykernel/__main__.py:1: RuntimeWarning: divide by zero encountered in log\n",
      "  if __name__ == '__main__':\n"
     ]
    },
    {
     "data": {
      "image/png": "[encoded data removed]",
      "text/plain": [
       "<matplotlib.figure.Figure at 0x7ff3f2df5ed0>"
      ]
     },
     "metadata": {},
     "output_type": "display_data"
    }
   ],
   "source": [
    "plt.imshow(np.log(metrics.confusion_matrix(ytest,ypred)), \n",
    "           cmap = 'Reds',\n",
    "           interpolation='nearest')\n",
    "plt.grid(False)\n",
    "plt.ylabel('true')\n",
    "plt.xlabel('predicted');"
   ]
  },
  {
   "cell_type": "markdown",
   "metadata": {},
   "source": [
    "### Now comparing with kNN"
   ]
  },
  {
   "cell_type": "code",
   "execution_count": 74,
   "metadata": {
    "collapsed": false
   },
   "outputs": [
    {
     "name": "stdout",
     "output_type": "stream",
     "text": [
      "CPU times: user 8 ms, sys: 0 ns, total: 8 ms\n",
      "Wall time: 6.44 ms\n",
      "training score : 0.989 \n"
     ]
    }
   ],
   "source": [
    "clf = neighbors.KNeighborsClassifier()\n",
    "%time clf.fit(Xtrain,ytrain)\n",
    "\n",
    "# print the training scores\n",
    "print(\"training score : %.3f \" % clf.score(Xtrain, ytrain))"
   ]
  },
  {
   "cell_type": "code",
   "execution_count": 94,
   "metadata": {
    "collapsed": false
   },
   "outputs": [
    {
     "name": "stdout",
     "output_type": "stream",
     "text": [
      "Test score:  0.982222222222\n"
     ]
    }
   ],
   "source": [
    "# Accuracy and test score\n",
    "ypred = clf.predict(Xtest)\n",
    "print \"Test score: \", accuracy_score(ytest,ypred)"
   ]
  },
  {
   "cell_type": "code",
   "execution_count": 56,
   "metadata": {
    "collapsed": false
   },
   "outputs": [
    {
     "name": "stderr",
     "output_type": "stream",
     "text": [
      "/home/susupta/anaconda2/lib/python2.7/site-packages/ipykernel/__main__.py:1: RuntimeWarning: divide by zero encountered in log\n",
      "  if __name__ == '__main__':\n"
     ]
    },
    {
     "data": {
      "image/png": "[encoded data removed]",
      "text/plain": [
       "<matplotlib.figure.Figure at 0x7ff3f2ed9310>"
      ]
     },
     "metadata": {},
     "output_type": "display_data"
    }
   ],
   "source": [
    "plt.imshow(np.log(metrics.confusion_matrix(ytest,ypred)), \n",
    "           cmap = 'Reds',\n",
    "           interpolation='nearest')\n",
    "plt.grid(False)\n",
    "plt.ylabel('true')\n",
    "plt.xlabel('predicted');"
   ]
  },
  {
   "cell_type": "markdown",
   "metadata": {},
   "source": [
    "### Optimizing the kNN"
   ]
  },
  {
   "cell_type": "code",
   "execution_count": 60,
   "metadata": {
    "collapsed": false
   },
   "outputs": [
    {
     "name": "stdout",
     "output_type": "stream",
     "text": [
      "\n",
      " The best parameters are {'n_neighbors': 1, 'metric': 'euclidean', 'algorithm': 'brute'} with a score of 0.99\n",
      "\n",
      "\n"
     ]
    }
   ],
   "source": [
    "# first method: kNN classifier for the scaled data\n",
    "# optimize the metaparameter k by cross-validation\n",
    "\n",
    "params = {\"n_neighbors\": np.arange(1, 31, 2),\n",
    "    \"metric\": [\"euclidean\", \"cityblock\"],\n",
    "    \"algorithm\": [\"brute\"]}\n",
    "cv = StratifiedShuffleSplit(n_splits=3, test_size=0.2, random_state=42)\n",
    "grid = GridSearchCV(neighbors.KNeighborsClassifier(), param_grid=params, cv=cv, n_jobs=-1)\n",
    "grid.fit(Xtrain, ytrain)\n",
    "best_param = grid.best_params_\n",
    "\n",
    "print(\"\\n The best parameters are %s with a score of %0.2f\" % (grid.best_params_, grid.best_score_))\n",
    "print \"\\n\""
   ]
  },
  {
   "cell_type": "code",
   "execution_count": 92,
   "metadata": {
    "collapsed": false
   },
   "outputs": [
    {
     "name": "stdout",
     "output_type": "stream",
     "text": [
      "CPU times: user 4 ms, sys: 0 ns, total: 4 ms\n",
      "Wall time: 1.01 ms\n",
      "\n",
      "\n",
      "knn: 1.00 training score, 0.98 test score\n",
      "\n",
      "\n"
     ]
    }
   ],
   "source": [
    "# For the scaled data\n",
    "# Now fit the model with optimum parameters for all training data, evaluate on the test set\n",
    "\n",
    "clf = neighbors.KNeighborsClassifier(best_param['n_neighbors'],metric=best_param['metric'],algorithm=best_param['algorithm'])\n",
    "%time clf.fit(Xtrain,ytrain)\n",
    "eval_train = clf.score(Xtrain,ytrain)\n",
    "eval_test = clf.score(Xtest,ytest)\n",
    "print\"\\n\"\n",
    "print(\"knn: %0.2f training score, %0.2f test score\\n\" % (eval_train,eval_test))\n",
    "print(\"\")     "
   ]
  },
  {
   "cell_type": "code",
   "execution_count": 65,
   "metadata": {
    "collapsed": false
   },
   "outputs": [
    {
     "data": {
      "text/plain": [
       "0.98222222222222222"
      ]
     },
     "execution_count": 65,
     "metadata": {},
     "output_type": "execute_result"
    }
   ],
   "source": [
    "# Accuracy and test score\n",
    "ypred = clf.predict(Xtest)\n",
    "accuracy_score(ytest,ypred)"
   ]
  },
  {
   "cell_type": "code",
   "execution_count": 63,
   "metadata": {
    "collapsed": false
   },
   "outputs": [
    {
     "name": "stderr",
     "output_type": "stream",
     "text": [
      "/home/susupta/anaconda2/lib/python2.7/site-packages/ipykernel/__main__.py:3: RuntimeWarning: divide by zero encountered in log\n",
      "  app.launch_new_instance()\n"
     ]
    },
    {
     "data": {
      "image/png": "[encoded data removed]",
      "text/plain": [
       "<matplotlib.figure.Figure at 0x7ff44457d210>"
      ]
     },
     "metadata": {},
     "output_type": "display_data"
    }
   ],
   "source": [
    "y = metrics.confusion_matrix(ytest,ypred)\n",
    "y[y == 0] =0.01 # to prevent dividing by zeros\n",
    "plt.imshow(np.log(y), \n",
    "           cmap = 'Reds',\n",
    "           interpolation='nearest')\n",
    "plt.grid(False)\n",
    "plt.ylabel('true')\n",
    "plt.xlabel('predicted');"
   ]
  }
 ],
 "metadata": {
  "kernelspec": {
   "display_name": "Python 3",
   "language": "python",
   "name": "python3"
  },
  "language_info": {
   "codemirror_mode": {
    "name": "ipython",
    "version": 3
   },
   "file_extension": ".py",
   "mimetype": "text/x-python",
   "name": "python",
   "nbconvert_exporter": "python",
   "pygments_lexer": "ipython3",
   "version": "3.5.2"
  }
 },
 "nbformat": 4,
 "nbformat_minor": 0
}
